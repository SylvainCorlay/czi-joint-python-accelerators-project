{
 "cells": [
  {
   "cell_type": "code",
   "execution_count": 1,
   "metadata": {},
   "outputs": [
    {
     "data": {
      "text/html": [
       "<div>\n",
       "<style scoped>\n",
       "    .dataframe tbody tr th:only-of-type {\n",
       "        vertical-align: middle;\n",
       "    }\n",
       "\n",
       "    .dataframe tbody tr th {\n",
       "        vertical-align: top;\n",
       "    }\n",
       "\n",
       "    .dataframe thead th {\n",
       "        text-align: right;\n",
       "    }\n",
       "</style>\n",
       "<table border=\"1\" class=\"dataframe\">\n",
       "  <thead>\n",
       "    <tr style=\"text-align: right;\">\n",
       "      <th></th>\n",
       "      <th>Cost</th>\n",
       "      <th>Category</th>\n",
       "      <th>Reason</th>\n",
       "    </tr>\n",
       "  </thead>\n",
       "  <tbody>\n",
       "    <tr>\n",
       "      <th>0</th>\n",
       "      <td>75000</td>\n",
       "      <td>Common costs</td>\n",
       "      <td>One-year developer</td>\n",
       "    </tr>\n",
       "    <tr>\n",
       "      <th>1</th>\n",
       "      <td>8000</td>\n",
       "      <td>Common costs</td>\n",
       "      <td>Final workshop</td>\n",
       "    </tr>\n",
       "    <tr>\n",
       "      <th>2</th>\n",
       "      <td>7970</td>\n",
       "      <td>Common costs</td>\n",
       "      <td>Publications and conferences</td>\n",
       "    </tr>\n",
       "    <tr>\n",
       "      <th>3</th>\n",
       "      <td>5000</td>\n",
       "      <td>Common costs</td>\n",
       "      <td>Travels and meetings</td>\n",
       "    </tr>\n",
       "    <tr>\n",
       "      <th>4</th>\n",
       "      <td>6500</td>\n",
       "      <td>Common costs</td>\n",
       "      <td>Internship (Outreachy scholarship)</td>\n",
       "    </tr>\n",
       "    <tr>\n",
       "      <th>5</th>\n",
       "      <td>34800</td>\n",
       "      <td>Pythran</td>\n",
       "      <td>Serge Guelton's work</td>\n",
       "    </tr>\n",
       "    <tr>\n",
       "      <th>6</th>\n",
       "      <td>60000</td>\n",
       "      <td>Cython</td>\n",
       "      <td>Stefan Behnel's work</td>\n",
       "    </tr>\n",
       "    <tr>\n",
       "      <th>7</th>\n",
       "      <td>30000</td>\n",
       "      <td>Numba</td>\n",
       "      <td>Val Haenel's work</td>\n",
       "    </tr>\n",
       "  </tbody>\n",
       "</table>\n",
       "</div>"
      ],
      "text/plain": [
       "    Cost      Category                              Reason\n",
       "0  75000  Common costs                  One-year developer\n",
       "1   8000  Common costs                      Final workshop\n",
       "2   7970  Common costs        Publications and conferences\n",
       "3   5000  Common costs                Travels and meetings\n",
       "4   6500  Common costs  Internship (Outreachy scholarship)\n",
       "5  34800       Pythran                Serge Guelton's work\n",
       "6  60000        Cython                Stefan Behnel's work\n",
       "7  30000         Numba                   Val Haenel's work"
      ]
     },
     "execution_count": 1,
     "metadata": {},
     "output_type": "execute_result"
    }
   ],
   "source": [
    "import pandas as pd\n",
    "\n",
    "df = pd.read_csv(\"budget.csv\")\n",
    "costs = df[\"Cost\"]\n",
    "\n",
    "df"
   ]
  },
  {
   "cell_type": "code",
   "execution_count": 2,
   "metadata": {},
   "outputs": [
    {
     "name": "stdout",
     "output_type": "stream",
     "text": [
      "total_direct: $227270.00\n"
     ]
    }
   ],
   "source": [
    "total_direct = costs.sum()\n",
    "print(f\"total_direct: ${total_direct:.2f}\")"
   ]
  },
  {
   "cell_type": "code",
   "execution_count": 3,
   "metadata": {},
   "outputs": [
    {
     "name": "stdout",
     "output_type": "stream",
     "text": [
      "indirect costs: $22727.00\n"
     ]
    }
   ],
   "source": [
    "pourcentage = 10\n",
    "indirect = total_direct * pourcentage / 100\n",
    "print(f\"indirect costs: ${indirect:.2f}\")"
   ]
  },
  {
   "cell_type": "code",
   "execution_count": 4,
   "metadata": {},
   "outputs": [
    {
     "name": "stdout",
     "output_type": "stream",
     "text": [
      "total: $249997.00\n"
     ]
    }
   ],
   "source": [
    "total_ok = 250000\n",
    "total = total_direct + indirect\n",
    "print(f\"total: ${total:.2f}\")\n",
    "assert total < total_ok"
   ]
  }
 ],
 "metadata": {
  "kernelspec": {
   "display_name": "Python 3",
   "language": "python",
   "name": "python3"
  },
  "language_info": {
   "codemirror_mode": {
    "name": "ipython",
    "version": 3
   },
   "file_extension": ".py",
   "mimetype": "text/x-python",
   "name": "python",
   "nbconvert_exporter": "python",
   "pygments_lexer": "ipython3",
   "version": "3.7.2"
  }
 },
 "nbformat": 4,
 "nbformat_minor": 4
}
